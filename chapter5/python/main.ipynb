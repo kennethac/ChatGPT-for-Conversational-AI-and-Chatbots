{
 "cells": [
  {
   "cell_type": "code",
   "execution_count": 2,
   "id": "f5bf1a3e",
   "metadata": {},
   "outputs": [],
   "source": [
    "import dotenv\n",
    "dotenv.load_dotenv()\n",
    "\n",
    "import os\n",
    "import langchain\n",
    "import openai\n",
    "from langchain.llms import OpenAI\n",
    "from langchain_openai import ChatOpenAI\n",
    "from langchain.schema import HumanMessage, SystemMessage \n",
    "from pydantic import validate_call\n",
    "\n",
    "base_url = os.environ.get(\"OPENAI_BASE_URL\") or \"http://localhost:11434/v1\"\n",
    "api_key = os.environ.get(\"OPENAI_API_KEY\") or \"ollama\"\n",
    "model_name = os.environ.get(\"MODEL_NAME\") or \"llama3.2\" if api_key == \"ollama\" else \"gpt-3.5-turbo\""
   ]
  },
  {
   "cell_type": "markdown",
   "id": "7d1bd263",
   "metadata": {},
   "source": [
    "### Create and test a langchain OpenAI client"
   ]
  },
  {
   "cell_type": "code",
   "execution_count": 3,
   "id": "36f24b41",
   "metadata": {},
   "outputs": [
    {
     "data": {
      "text/plain": [
       "AIMessage(content='How can I assist you today?', additional_kwargs={'refusal': None}, response_metadata={'token_usage': {'completion_tokens': 8, 'prompt_tokens': 27, 'total_tokens': 35, 'completion_tokens_details': None, 'prompt_tokens_details': None}, 'model_name': 'llama3.2', 'system_fingerprint': 'fp_ollama', 'id': 'chatcmpl-250', 'finish_reason': 'stop', 'logprobs': None}, id='run-0c0c3a5f-c24e-4b8c-b960-b3581365afe4-0', usage_metadata={'input_tokens': 27, 'output_tokens': 8, 'total_tokens': 35, 'input_token_details': {}, 'output_token_details': {}})"
      ]
     },
     "metadata": {},
     "output_type": "display_data"
    },
    {
     "data": {
      "text/plain": [
       "AIMessage(content=\"I'd be happy to help you find a direct flight from New York to London for your travel dates.\\n\\nPlease note that availability and prices may vary depending on the airline, time of booking, and other factors. That being said, here are some available options for your travel dates:\\n\\n**Departing December 10th:**\\n\\n1. **British Airways**: Flight BA001 departs from John F. Kennedy International Airport (JFK) at 8:30 AM EST, arriving at London Heathrow Airport (LHR) at 2:35 PM GMT.\\n\\t* Price: $844\\n2. **American Airlines**: Flight AA002 departs from JFK at 10:00 AM EST, arriving at LHR at 4:05 PM GMT.\\n\\t* Price: $934\\n3. **Delta Air Lines**: Flight DL003 departs from JFK at 11:30 AM EST, arriving at LHR at 5:35 PM GMT.\\n\\t* Price: $1,044\\n\\n**Returning January 5th:**\\n\\n1. **British Airways**: Flight BA002 returns to JFK at 9:00 AM GMT, departing from LHR at 7:15 AM GMT.\\n\\t* Price: $844\\n2. **American Airlines**: Flight AA001 returns to JFK at 10:30 AM GMT, departing from LHR at 8:35 AM GMT.\\n\\t* Price: $934\\n3. **Delta Air Lines**: Flight DL002 returns to JFK at 12:00 PM GMT, departing from LHR at 9:15 AM GMT.\\n\\t* Price: $1,044\\n\\n**Additional Options:**\\n\\nIf you're willing to consider flights with layovers or alternative airports, here are a few more options:\\n\\n1. **United Airlines**: Flight UA004 departs from Newark Liberty International Airport (EWR) at 8:00 AM EST, arriving at LHR at 2:05 PM GMT.\\n\\t* Price: $794\\n2. **Lufthansa**: Flight LH005 departs from JFK at 9:30 AM EST, arriving at Frankfurt Airport (FRA), then connecting to LHR.\\n\\t* Price: $924\\n\\nPlease note that prices and flight schedules are subject to change, and availability may vary depending on your specific travel dates. I recommend verifying the information with the airlines or a travel booking website like Expedia, Kayak, or Skyscanner.\\n\\nWould you like me to book any of these flights for you?\", additional_kwargs={'refusal': None}, response_metadata={'token_usage': {'completion_tokens': 511, 'prompt_tokens': 75, 'total_tokens': 586, 'completion_tokens_details': None, 'prompt_tokens_details': None}, 'model_name': 'llama3.2', 'system_fingerprint': 'fp_ollama', 'id': 'chatcmpl-803', 'finish_reason': 'stop', 'logprobs': None}, id='run-f9e430b3-5539-432f-9a76-dca6328e08ff-0', usage_metadata={'input_tokens': 75, 'output_tokens': 511, 'total_tokens': 586, 'input_token_details': {}, 'output_token_details': {}})"
      ]
     },
     "metadata": {},
     "output_type": "display_data"
    }
   ],
   "source": [
    "\n",
    "chat_model = ChatOpenAI(\n",
    "    temperature=0.0,\n",
    "    model_name=model_name,\n",
    "    openai_api_key=api_key,\n",
    "    openai_api_base=base_url)\n",
    "\n",
    "display(chat_model.invoke(\"hi!\"))\n",
    "\n",
    "text = \"I am looking to book a direct flight from New York to London departing on December 10th and returning on January 5th. Can you provide me with the available options, including airlines, flight times, and prices\" \n",
    "\n",
    "messages = [\n",
    "    SystemMessage(content=\"You're a helpful flight expert\"),\n",
    "    HumanMessage(content=text),\n",
    "]\n",
    "\n",
    "display(chat_model.invoke(messages))\n"
   ]
  },
  {
   "cell_type": "markdown",
   "id": "8a28586a",
   "metadata": {},
   "source": [
    "### Example of formatting a prompt template with interpolation"
   ]
  },
  {
   "cell_type": "code",
   "execution_count": 3,
   "id": "0c13260f",
   "metadata": {},
   "outputs": [
    {
     "data": {
      "text/plain": [
       "\"Look at the following conversation Customer: My new bike is missing a wheel! Chatbot: I'm sorry to hear that. Could I have your order number, please? Customer: It's #54321. Chatbot: Thank you. We'll send a replacement wheel today, and it'll arrive in two days. Customer: Make sure it does. This has been a hassle. Chatbot: Understandably so, and we apologize. You’ll also get a 20% discount on your next order for the inconvenience. Customer: Fine, thank you. Chatbot: You're welcome, and the confirmation is on its way. If there’s more I can do for you, just let me know. from the following service area complaints on 2023-10-19 14:30:00 and return a sentiment\""
      ]
     },
     "execution_count": 3,
     "metadata": {},
     "output_type": "execute_result"
    }
   ],
   "source": [
    "from langchain.prompts import PromptTemplate\n",
    "\n",
    "prompt_template = PromptTemplate.from_template(\n",
    "    \"Look at the following conversation {conversation} from the following service area {service_area} on {event_date_time} and return a sentiment\"\n",
    ")\n",
    "\n",
    "conversation = \"\"\"Customer: My new bike is missing a wheel! \\\n",
    "Chatbot: I'm sorry to hear that. Could I have your order number, please? \\\n",
    "Customer: It's #54321. \\\n",
    "Chatbot: Thank you. We'll send a replacement wheel today, and it'll arrive in two days. \\\n",
    "Customer: Make sure it does. This has been a hassle. \\\n",
    "Chatbot: Understandably so, and we apologize. You’ll also get a 20% discount on your next order for the inconvenience. \\\n",
    "Customer: Fine, thank you. \\\n",
    "Chatbot: You're welcome, and the confirmation is on its way. If there’s more I can do for you, just let me know.\"\"\"\n",
    "\n",
    "reminder_message = prompt_template.format(\n",
    "    conversation=conversation,\n",
    "    service_area=\"complaints\",\n",
    "    event_date_time=\"2023-10-19 14:30:00\"\n",
    ")\n",
    "reminder_message"
   ]
  },
  {
   "cell_type": "code",
   "execution_count": 5,
   "id": "853cf89f",
   "metadata": {},
   "outputs": [
    {
     "data": {
      "text/plain": [
       "[SystemMessage(content='You are a health advisory bot for HealthHub Clinic. You can answer questions from the patient called Lucy', additional_kwargs={}, response_metadata={}),\n",
       " AIMessage(content='Hi, Lucy please ask me your question.', additional_kwargs={}, response_metadata={}),\n",
       " HumanMessage(content='What are the symptoms of the flu?', additional_kwargs={}, response_metadata={})]"
      ]
     },
     "metadata": {},
     "output_type": "display_data"
    },
    {
     "data": {
      "text/plain": [
       "AIMessage(content=\"Lucy, the flu (influenza) is a contagious respiratory illness caused by the influenza virus. The symptoms of the flu can vary from person to person, but common symptoms include:\\n\\n* Fever, usually high\\n* Chills\\n* Cough\\n* Sore throat\\n* Runny or stuffy nose\\n* Headache\\n* Fatigue (extreme tiredness)\\n* Muscle or body aches\\n* Diarrhea and vomiting (more common in children)\\n\\nIn some cases, the flu can also cause more severe symptoms, such as:\\n\\n* Pneumonia (infection of the lungs)\\n* Bronchitis (inflammation of the airways)\\n* Sinus and ear infections\\n\\nIf you're experiencing any of these symptoms, it's essential to consult with a healthcare professional for proper diagnosis and treatment.\\n\\nAt HealthHub Clinic, we can also provide you with guidance on how to manage your symptoms and prevent complications. Would you like me to recommend some over-the-counter medications or home remedies, Lucy?\", additional_kwargs={'refusal': None}, response_metadata={'token_usage': {'completion_tokens': 209, 'prompt_tokens': 67, 'total_tokens': 276, 'completion_tokens_details': None, 'prompt_tokens_details': None}, 'model_name': 'llama3.2', 'system_fingerprint': 'fp_ollama', 'id': 'chatcmpl-377', 'finish_reason': 'stop', 'logprobs': None}, id='run-30a0961a-d4dc-4dfc-87e0-6857dde7395e-0', usage_metadata={'input_tokens': 67, 'output_tokens': 209, 'total_tokens': 276, 'input_token_details': {}, 'output_token_details': {}})"
      ]
     },
     "execution_count": 5,
     "metadata": {},
     "output_type": "execute_result"
    }
   ],
   "source": [
    "from langchain.prompts import ChatPromptTemplate \n",
    "\n",
    "chat_template = ChatPromptTemplate.from_messages([ \n",
    "    (\"system\", \"You are a health advisory bot for HealthHub Clinic. You can answer questions from the patient called {name}\"), \n",
    "    (\"ai\", \"Hi, {name} please ask me your question.\"), \n",
    "    (\"human\", \"{user_input}\"), \n",
    "])\n",
    "\n",
    "messages = chat_template.format_messages(name=\"Lucy\", user_input=\"What are the symptoms of the flu?\")\n",
    "\n",
    "display(messages)\n",
    "\n",
    "chat_model.invoke(messages)"
   ]
  },
  {
   "cell_type": "code",
   "execution_count": null,
   "id": "3d586bd7",
   "metadata": {},
   "outputs": [],
   "source": []
  },
  {
   "cell_type": "markdown",
   "id": "286ee2a4",
   "metadata": {},
   "source": [
    "### ChatPromptTemplate example\n",
    "\n",
    "Used to format a chat prompt (system, user and ai parts). This example creates a subclass to apply Pydantic validation to the template placeholders."
   ]
  },
  {
   "cell_type": "code",
   "execution_count": 15,
   "id": "8d9947ae",
   "metadata": {},
   "outputs": [
    {
     "name": "stderr",
     "output_type": "stream",
     "text": [
      "/var/folders/m9/zg1dfhgn6r17gm0mlw6fg3yc0000gn/T/ipykernel_71239/1927113081.py:5: PydanticDeprecatedSince20: Pydantic V1 style `@validator` validators are deprecated. You should migrate to Pydantic V2 style `@field_validator` validators, see the migration guide for more details. Deprecated in Pydantic V2.0 to be removed in V3.0. See Pydantic V2 Migration Guide at https://errors.pydantic.dev/2.10/migration/\n",
      "  @validator(\"input_variables\")\n"
     ]
    }
   ],
   "source": [
    "from langchain.prompts import ChatPromptTemplate\n",
    "from pydantic import BaseModel, validator\n",
    "\n",
    "class ProductivityChatPromptTemplate(ChatPromptTemplate, BaseModel):\n",
    "    @validator(\"input_variables\")\n",
    "    def validate_input_variables(cls, v):\n",
    "        required_vars = {\"task\", \"time_available\", \"user_preferences\"}\n",
    "        if not required_vars.issubset(v):\n",
    "            raise ValueError(f\"Input variables must include: {required_vars}\")\n",
    "        return v\n",
    "\n",
    "    def format_messages(self, **kwargs) -> str:\n",
    "        messages = [\n",
    "            (\"system\", \"You are a virtual productivity assistant.\"),\n",
    "            (\"human\", f\"I need to {kwargs['task']} and I only have {kwargs['time_available']}.\"),\n",
    "            (\"human\", f\"My preference is to {kwargs['user_preferences']}.\"),\n",
    "            (\"ai\", \"Based on your task and preferences, here's my advice:\")\n",
    "            # The AI's response would be generated by the language model following this prompt.\n",
    "        ]\n",
    "        return self.construct_chat(messages)\n"
   ]
  },
  {
   "cell_type": "markdown",
   "id": "2f05c9ce",
   "metadata": {},
   "source": [
    "### StringPromptTemplate example\n",
    "\n",
    "Used to format a basic string. This example creates a subclass to apply Pydantic validation to the template placeholders.\n",
    "\n",
    "The example also shows how to use Python reflection to get function definitions and incorporate them into the chat, hypothetically for creating a tool to help explain your code."
   ]
  },
  {
   "cell_type": "code",
   "execution_count": 11,
   "id": "482058ce",
   "metadata": {},
   "outputs": [],
   "source": [
    "import inspect\n",
    "\n",
    "\n",
    "def get_source_code(function_name):\n",
    "    # Get the source code of the function\n",
    "    return inspect.getsource(function_name)"
   ]
  },
  {
   "cell_type": "code",
   "execution_count": 19,
   "id": "46d53704",
   "metadata": {},
   "outputs": [
    {
     "name": "stderr",
     "output_type": "stream",
     "text": [
      "/var/folders/m9/zg1dfhgn6r17gm0mlw6fg3yc0000gn/T/ipykernel_71239/1546726354.py:15: PydanticDeprecatedSince20: Pydantic V1 style `@validator` validators are deprecated. You should migrate to Pydantic V2 style `@field_validator` validators, see the migration guide for more details. Deprecated in Pydantic V2.0 to be removed in V3.0. See Pydantic V2 Migration Guide at https://errors.pydantic.dev/2.10/migration/\n",
      "  @validator(\"input_variables\")\n"
     ]
    },
    {
     "name": "stdout",
     "output_type": "stream",
     "text": [
      "Given the function name and source code, generate an English language explanation of the function.\n",
      "Function Name: get_source_code\n",
      "Source Code:\n",
      "def get_source_code(function_name):\n",
      "    # Get the source code of the function\n",
      "    return inspect.getsource(function_name)\n",
      "\n",
      "Explanation:\n",
      "\n",
      "**Function Explanation: `get_source_code`**\n",
      "\n",
      "The `get_source_code` function is designed to retrieve the source code of a given Python function. It takes one argument, `function_name`, which is the name of the function for which you want to obtain its source code.\n",
      "\n",
      "Here's how it works:\n",
      "\n",
      "1. The function uses the built-in `inspect` module, which provides functions to help get information about live objects such as modules, classes, methods, etc.\n",
      "2. Specifically, it calls the `getsource()` function from the `inspect` module, passing in the `function_name` argument.\n",
      "3. The `getsource()` function returns the source code of the specified function as a string.\n",
      "\n",
      "In essence, this function allows you to programmatically access and inspect the source code of any Python function, making it easier to understand how functions are implemented and used in your codebase.\n",
      "\n",
      "**Example Use Case:**\n",
      "\n",
      "```python\n",
      "import inspect\n",
      "\n",
      "def my_function():\n",
      "    print(\"Hello, World!\")\n",
      "\n",
      "source_code = get_source_code(my_function)\n",
      "print(source_code)\n",
      "```\n",
      "\n",
      "This example would output the source code of `my_function`, which is then printed to the console.\n"
     ]
    }
   ],
   "source": [
    "from langchain.prompts import StringPromptTemplate\n",
    "from pydantic import BaseModel, validator\n",
    "\n",
    "PROMPT = \"\"\"\\\n",
    "Given the function name and source code, generate an English language explanation of the function.\n",
    "Function Name: {function_name}\n",
    "Source Code:\n",
    "{source_code}\n",
    "Explanation:\n",
    "\"\"\"\n",
    "\n",
    "class FunctionExplainerPromptTemplate(StringPromptTemplate, BaseModel):\n",
    "    \"\"\"A custom prompt template that takes in the function name as input, and formats the prompt template to provide the source code of the function.\"\"\"\n",
    "\n",
    "    @validator(\"input_variables\")\n",
    "    def validate_input_variables(cls, v):\n",
    "        \"\"\"Validate that the input variables are correct.\"\"\"\n",
    "        if len(v) != 1 or \"function_name\" not in v:\n",
    "            raise ValueError(\"function_name must be the only input_variable.\")\n",
    "        return v\n",
    "\n",
    "    def format(self, **kwargs) -> str:\n",
    "        # Get the source code of the function\n",
    "        source_code = get_source_code(kwargs[\"function_name\"])\n",
    "\n",
    "        # Generate the prompt to be sent to the language model\n",
    "        prompt = PROMPT.format(\n",
    "            function_name=kwargs[\"function_name\"].__name__, source_code=source_code\n",
    "        )\n",
    "        return prompt\n",
    "\n",
    "    def _prompt_type(self):\n",
    "        return \"function-explainer\"\n",
    "    \n",
    "    \n",
    "fn_explainer = FunctionExplainerPromptTemplate(input_variables=[\"function_name\"])\n",
    "\n",
    "# Generate a prompt for the function \"get_source_code\"\n",
    "prompt = fn_explainer.format(function_name=get_source_code)\n",
    "print(prompt)\n",
    "\n",
    "print(chat_model.invoke(prompt).content)\n"
   ]
  },
  {
   "cell_type": "code",
   "execution_count": null,
   "id": "63d2efec",
   "metadata": {},
   "outputs": [
    {
     "name": "stdout",
     "output_type": "stream",
     "text": [
      "The output should be a markdown code snippet formatted in the following schema, including the leading and trailing \"```json\" and \"```\":\n",
      "\n",
      "```json\n",
      "{\n",
      "\t\"intents\": string  // Format the output as JSON object consisting of a key: intents, the intents key will be a list of objects with the following keys: intent, utterance, category\n",
      "}\n",
      "```\n",
      "Got response\n",
      "<class 'str'>\n"
     ]
    },
    {
     "data": {
      "text/plain": [
       "AIMessage(content='```json\\n{\\n  \"intents\": [\\n    {\\n      \"intent\": \"FACILITIES_INQUIRY\",\\n      \"utterances\": [\\n        \"What are the facilities available on campus?\",\\n        \"Can you tell me about the college\\'s facilities?\",\\n        \"I\\'m interested in visiting the college, what can I expect to see?\",\\n        \"Are there any state-of-the-art facilities at the college?\",\\n        \"What kind of recreational facilities does the college offer?\",\\n        \"Can you describe the college\\'s library and study spaces?\",\\n        \"How many classrooms are available for students?\",\\n        \"What kind of dining options are available on campus?\",\\n        \"Are there any fitness centers or gyms at the college?\",\\n        \"Can I schedule a tour of the college\\'s facilities?\"\\n      ],\\n      \"long_tail\": [\\n        \"I\\'m looking for a college with a good balance between academics and extracurricular activities, can you tell me about your facilities?\",\\n        \"As a student with a disability, what accommodations are available at the college regarding accessibility and facilities?\",\\n        \"Can you describe the college\\'s sustainability initiatives and green spaces?\",\\n        \"How does the college support students who want to pursue internships or research opportunities?\",\\n        \"Are there any partnerships between the college and local businesses or organizations?\"\\n      ],\\n      \"common\": [\\n        \"What are your facilities like?\",\\n        \"Can I see your facilities?\",\\n        \"I\\'m interested in learning more about your facilities.\",\\n        \"Do you have any facilities that are open to visitors?\",\\n        \"How do your facilities support student success?\"\\n      ]\\n    },\\n    {\\n      \"intent\": \"COURSE_INFORMATION\",\\n      \"utterances\": [\\n        \"What courses does the college offer?\",\\n        \"Can you tell me about the course catalog?\",\\n        \"I\\'m interested in taking a specific course, what are the prerequisites?\",\\n        \"How many credits do I need to complete my degree?\",\\n        \"Are there any online or distance learning options available?\",\\n        \"Can you describe the college\\'s academic programs?\",\\n        \"What kind of support services does the college offer for students?\",\\n        \"How long does it take to complete a degree at the college?\",\\n        \"Can I get a list of courses that are currently being offered?\",\\n        \"Are there any specializations or concentrations available?\"\\n      ],\\n      \"long_tail\": [\\n        \"I\\'m looking for a college with a strong program in computer science, can you tell me about your course offerings?\",\\n        \"As a transfer student, what courses will I need to take to complete my degree?\",\\n        \"Can you describe the college\\'s advising services and how they support students?\",\\n        \"How does the college approach interdisciplinary studies and collaborations?\",\\n        \"Are there any opportunities for research or internships in specific fields?\"\\n      ],\\n      \"common\": [\\n        \"What courses do you offer?\",\\n        \"Can I get a course schedule?\",\\n        \"I\\'m interested in taking a course, what are the requirements?\",\\n        \"Do you have any courses that are specifically designed for international students?\",\\n        \"How can I get help with my coursework?\"\\n      ]\\n    },\\n    {\\n      \"intent\": \"ADMISSIONS_INQUIRY\",\\n      \"utterances\": [\\n        \"What are the admission requirements?\",\\n        \"Can you tell me about the application process?\",\\n        \"I\\'m interested in applying to the college, what are the deadlines?\",\\n        \"How do I apply for financial aid?\",\\n        \"Are there any scholarships or grants available?\",\\n        \"Can you describe the college\\'s admissions process?\",\\n        \"What kind of support services does the college offer for admitted students?\",\\n        \"How long does it take to hear back about admission decisions?\",\\n        \"Can I get a list of required documents for the application?\",\\n        \"Are there any additional requirements or recommendations for admission?\"\\n      ],\\n      \"long_tail\": [\\n        \"I\\'m looking for a college with a strong program in engineering, can you tell me about your admissions process?\",\\n        \"As an international student, what are the specific requirements and deadlines for applying?\",\\n        \"Can you describe the college\\'s holistic review process and how it considers applicants?\",\\n        \"How does the college approach diversity and inclusion in its admissions process?\",\\n        \"Are there any opportunities for early decision or early action?\"\\n      ],\\n      \"common\": [\\n        \"What do I need to apply?\",\\n        \"Can I get a list of admission requirements?\",\\n        \"I\\'m interested in applying, what are the deadlines?\",\\n        \"Do you have any recommendations for preparing for the application process?\",\\n        \"How can I get help with my application?\"\\n      ]\\n    },\\n    {\\n      \"intent\": \"CAMPUS_LIFE\",\\n      \"utterances\": [\\n        \"What kind of extracurricular activities does the college offer?\",\\n        \"Can you tell me about student organizations and clubs?\",\\n        \"I\\'m interested in joining a sports team, what are the options?\",\\n        \"How does the college support student mental health and wellness?\",\\n        \"Are there any cultural or diversity events on campus?\",\\n        \"Can you describe the college\\'s community service programs?\",\\n        \"What kind of academic support services does the college offer?\",\\n        \"How do students get involved in research projects or internships?\",\\n        \"Can I schedule a meeting with a student ambassador?\",\\n        \"Are there any opportunities for leadership development or professional networking?\"\\n      ],\\n      \"long_tail\": [\\n        \"I\\'m looking for a college with a strong program in environmental studies, can you tell me about your extracurricular activities?\",\\n        \"As a student with a disability, what kinds of accommodations are available for participating in sports or clubs?\",\\n        \"Can you describe the college\\'s approach to social justice and activism?\",\\n        \"How does the college support students who want to pursue careers in non-profit work?\",\\n        \"Are there any partnerships between the college and local community organizations?\"\\n      ],\\n      \"common\": [\\n        \"What kind of activities are available on campus?\",\\n        \"Can I join a club or organization?\",\\n        \"I\\'m interested in getting involved in sports, what are the options?\",\\n        \"Do you have any events or programs for students to get involved in?\",\\n        \"How can I meet new people and make friends?\"\\n      ]\\n    },\\n    {\\n      \"intent\": \"FINANCIAL_AID\",\\n      \"utterances\": [\\n        \"What kind of financial aid is available?\",\\n        \"Can you tell me about scholarships and grants?\",\\n        \"I\\'m interested in applying for federal student loans, what are the options?\",\\n        \"How do I apply for financial aid?\",\\n        \"Are there any work-study programs available?\",\\n        \"Can you describe the college\\'s tuition payment plans?\",\\n        \"What kind of support services does the college offer for students with financial difficulties?\",\\n        \"How do I get help with my financial aid application?\",\\n        \"Are there any additional fees or expenses that I need to be aware of?\",\\n        \"Can I get a list of recommended financial aid resources?\"\\n      ],\\n      \"long_tail\": [\\n        \"I\\'m looking for a college with a strong program in business, can you tell me about your financial aid options?\",\\n        \"As an international student, what kinds of scholarships and grants are available to me?\",\\n        \"Can you describe the college\\'s approach to affordability and accessibility?\",\\n        \"How does the college support students who want to pursue careers in the arts or humanities?\",\\n        \"Are there any partnerships between the college and local businesses or organizations?\"\\n      ],\\n      \"common\": [\\n        \"What kind of financial aid do you offer?\",\\n        \"Can I get a list of scholarships?\",\\n        \"I\\'m interested in applying for financial aid, what are the options?\",\\n        \"Do you have any resources for students who need help with their financial aid application?\",\\n        \"How can I get help with my tuition bill?\"\\n      ]\\n    },\\n    {\\n      \"intent\": \"ACADEMIC_SUPPORT\",\\n      \"utterances\": [\\n        \"What kind of academic support services does the college offer?\",\\n        \"Can you tell me about tutoring and academic advising?\",\\n        \"I\\'m interested in taking a course, what are the prerequisites?\",\\n        \"How do I get help with my coursework?\",\\n        \"Are there any online resources or tools available for students?\",\\n        \"Can you describe the college\\'s approach to student success?\",\\n        \"What kind of support services does the college offer for students who are struggling academically?\",\\n        \"How do I schedule a meeting with an academic advisor?\",\\n        \"Are there any opportunities for research or internships in specific fields?\"\\n      ],\\n      \"long_tail\": [\\n        \"I\\'m looking for a college with a strong program in computer science, can you tell me about your academic support services?\",\\n        \"As a student with a disability, what kinds of accommodations are available for participating in classes or labs?\",\\n        \"Can you describe the college\\'s approach to supporting students who are first-generation college students?\",\\n        \"How does the college support students who want to pursue careers in STEM fields?\",\\n        \"Are there any partnerships between the college and local businesses or organizations?\"\\n      ],\\n      \"common\": [\\n        \"What kind of academic support do you offer?\",\\n        \"Can I get help with my coursework?\",\\n        \"I\\'m interested in taking a course, what are the requirements?\",\\n        \"Do you have any resources for students who need help with their studies?\",\\n        \"How can I meet with an academic advisor?\"\\n      ]\\n    },\\n    {\\n      \"intent\": \"RESEARCH\",\\n      \"utterances\": [\\n        \"What kind of research opportunities does the college offer?\",\\n        \"Can you tell me about faculty research projects?\",\\n        \"I\\'m interested in pursuing a graduate degree, what are the options?\",\\n        \"How do I get involved in research projects or internships?\",\\n        \"Are there any resources or tools available for students who want to conduct research?\",\\n        \"Can you describe the college\\'s approach to interdisciplinary research?\",\\n        \"What kind of support services does the college offer for students who are conducting research?\",\\n        \"How do I schedule a meeting with a faculty advisor?\",\\n        \"Are there any opportunities for presenting research at conferences or competitions?\"\\n      ],\\n      \"long_tail\": [\\n        \"I\\'m looking for a college with a strong program in environmental studies, can you tell me about your research opportunities?\",\\n        \"As a student with a disability, what kinds of accommodations are available for participating in research projects?\",\\n        \"Can you describe the college\\'s approach to supporting students who want to pursue careers in non-profit work?\",\\n        \"How does the college support students who want to pursue careers in STEM fields?\",\\n        \"Are there any partnerships between the college and local businesses or organizations?\"\\n      ],\\n      \"common\": [\\n        \"What kind of research opportunities do you offer?\",\\n        \"Can I get involved in a research project?\",\\n        \"I\\'m interested in pursuing a graduate degree, what are the options?\",\\n        \"Do you have any resources for students who want to conduct research?\",\\n        \"How can I meet with a faculty advisor?\"\\n      ]\\n    },\\n    {\\n      \"intent\": \"ADMISSIONS\",\\n      \"utterances\": [\\n        \"What are the admission requirements for the college?\",\\n        \"Can you tell me about the application process?\",\\n        \"I\\'m interested in applying, what are the deadlines?\",\\n        \"How do I get help with my application?\",\\n        \"Are there any additional fees or expenses that I need to be aware of?\",\\n        \"Can you describe the college\\'s approach to admissions?\",\\n        \"What kind of support services does the college offer for students who are admitted?\",\\n        \"How do I schedule a meeting with an admissions counselor?\",\\n        \"Are there any opportunities for tours or visits?\"\\n      ],\\n      \"long_tail\": [\\n        \"I\\'m looking for a college with a strong program in business, can you tell me about your admission requirements?\",\\n        \"As a student with a disability, what kinds of accommodations are available during the application process?\",\\n        \"Can you describe the college\\'s approach to diversity and inclusion?\",\\n        \"How does the college support students who want to pursue careers in the arts or humanities?\",\\n        \"Are there any partnerships between the college and local businesses or organizations?\"\\n      ],\\n      \"common\": [\\n        \"What are the admission requirements?\",\\n        \"Can I get help with my application?\",\\n        \"I\\'m interested in applying, what are the deadlines?\",\\n        \"Do you have any resources for students who need help with their application?\",\\n        \"How can I meet with an admissions counselor?\"\\n      ]\\n    },\\n    {\\n      \"intent\": \"CAREER_SERVICES\",\\n      \"utterances\": [\\n        \"What kind of career services does the college offer?\",\\n        \"Can you tell me about job placement rates?\",\\n        \"I\\'m interested in pursuing a career in [industry/field], what resources are available?\",\\n        \"How do I get help with my resume or cover letter?\",\\n        \"Are there any opportunities for internships or co-op programs?\",\\n        \"Can you describe the college\\'s approach to career development?\",\\n        \"What kind of support services does the college offer for students who are looking for jobs?\",\\n        \"How do I schedule a meeting with a career counselor?\",\\n        \"Are there any resources or tools available for students who want to start their own business?\"\\n      ],\\n      \"long_tail\": [\\n        \"I\\'m looking for a college with a strong program in environmental studies, can you tell me about your career services?\",\\n        \"As a student with a disability, what kinds of accommodations are available for participating in job fairs or networking events?\",\\n        \"Can you describe the college\\'s approach to supporting students who want to pursue careers in STEM fields?\",\\n        \"How does the college support students who want to pursue careers in non-profit work?\",\\n        \"Are there any partnerships between the college and local businesses or organizations?\"\\n      ],\\n      \"common\": [\\n        \"What kind of career services do you offer?\",\\n        \"Can I get help with my resume or cover letter?\",\\n        \"I\\'m interested in pursuing a career, what resources are available?\",\\n        \"Do you have any job placement rates or statistics?\",\\n        \"How can I meet with a career counselor?\"\\n      ]\\n    },\\n    {\\n      \"intent\": \"SUPPORT_SERVICES\",\\n      \"utterances\": [\\n        \"What kind of support services does the college offer for students with disabilities?\",\\n        \"Can you tell me about accommodations for students with [specific disability]?\",\\n        \"I\\'m interested in pursuing a career, what resources are available for students who need additional support?\",\\n        \"How do I get help with my mental health or well-being?\",\\n        \"Are there any resources or tools available for students who want to start their own business?\",\\n        \"Can you describe the college\\'s approach to supporting students who are struggling academically?\",\\n        \"What kind of support services does the college offer for students who are experiencing personal or family crises?\",\\n        \"How do I schedule a meeting with a support counselor?\",\\n        \"Are there any resources or tools available for students who want to pursue further education?\"\\n      ],\\n      \"long_tail\": [\\n        \"I\\'m looking for a college with a strong program in environmental studies, can you tell me about your support services?\",\\n        \"As a student with a disability, what kinds of accommodations are available during the application process?\",\\n        \"Can you describe the college\\'s approach to supporting students who want to pursue careers in STEM fields?\",\\n        \"How does the college support students who want to pursue careers in non-profit work?\",\\n        \"Are there any partnerships between the college and local businesses or organizations?\"\\n      ],\\n      \"common\": [\\n        \"What kind of support services do you offer for students with disabilities?\",\\n        \"Can I get help with my mental health or well-being?\",\\n        \"I\\'m interested in pursuing a career, what resources are available for students who need additional support?\",\\n        \"Do you have any resources or tools available for students who want to start their own business?\"\\n      ]\\n    }\\n  ];\\n\\n  const answers = [];\\n\\n  // Loop through each intent\\n  intents.forEach(intent => {\\n    // Create an answer based on the intent\\n    const answer = createAnswer(intent);\\n\\n    // Add the answer to the list of answers\\n    answers.push(answer);\\n  });\\n\\n  return answers;\\n}\\n\\n// Helper function to create an answer based on the intent\\nfunction createAnswer(intent) {\\n  // Check if the intent has a specific response\\n  if (intent.responses) {\\n    // Return the first response from the intent\\'s responses array\\n    return intent.responses[0];\\n  } else {\\n    // If no specific response is found, generate a generic answer based on the intent\\n    const genericAnswer = `I\\'m not sure I understand your question about ${intent.name}. Can you please provide more context or clarify what you\\'re asking?`;\\n    return genericAnswer;\\n  }\\n}\\n\\n// Call the function to get the answers\\nconst answers = getAnswers();\\n\\n// Print the answers\\nanswers.forEach(answer => {\\n  console.log(`Intent: ${answer.intentName}`);\\n  console.log(`Response: ${answer.response}`);\\n  console.log(\\'---\\');\\n});', additional_kwargs={'refusal': None}, response_metadata={'token_usage': {'completion_tokens': 3485, 'prompt_tokens': 157, 'total_tokens': 3642, 'completion_tokens_details': None, 'prompt_tokens_details': None}, 'model_name': 'llama3.2', 'system_fingerprint': 'fp_ollama', 'id': 'chatcmpl-803', 'finish_reason': 'stop', 'logprobs': None}, id='run-86e51e49-f741-4d9e-84ff-ceb4a981cf10-0', usage_metadata={'input_tokens': 157, 'output_tokens': 3485, 'total_tokens': 3642, 'input_token_details': {}, 'output_token_details': {}})"
      ]
     },
     "metadata": {},
     "output_type": "display_data"
    },
    {
     "ename": "OutputParserException",
     "evalue": "Got invalid JSON object. Error: Expecting ',' delimiter: line 287 column 4 (char 16799)\nFor troubleshooting, visit: https://python.langchain.com/docs/troubleshooting/errors/OUTPUT_PARSING_FAILURE ",
     "output_type": "error",
     "traceback": [
      "\u001b[31m---------------------------------------------------------------------------\u001b[39m",
      "\u001b[31mJSONDecodeError\u001b[39m                           Traceback (most recent call last)",
      "\u001b[36mFile \u001b[39m\u001b[32m~/dev/repo-clones/ChatGPT-for-Conversational-AI-and-Chatbots/.venv/lib/python3.13/site-packages/langchain_core/utils/json.py:189\u001b[39m, in \u001b[36mparse_and_check_json_markdown\u001b[39m\u001b[34m(text, expected_keys)\u001b[39m\n\u001b[32m    188\u001b[39m \u001b[38;5;28;01mtry\u001b[39;00m:\n\u001b[32m--> \u001b[39m\u001b[32m189\u001b[39m     json_obj = \u001b[43mparse_json_markdown\u001b[49m\u001b[43m(\u001b[49m\u001b[43mtext\u001b[49m\u001b[43m)\u001b[49m\n\u001b[32m    190\u001b[39m \u001b[38;5;28;01mexcept\u001b[39;00m json.JSONDecodeError \u001b[38;5;28;01mas\u001b[39;00m e:\n",
      "\u001b[36mFile \u001b[39m\u001b[32m~/dev/repo-clones/ChatGPT-for-Conversational-AI-and-Chatbots/.venv/lib/python3.13/site-packages/langchain_core/utils/json.py:153\u001b[39m, in \u001b[36mparse_json_markdown\u001b[39m\u001b[34m(json_string, parser)\u001b[39m\n\u001b[32m    152\u001b[39m     json_str = json_string \u001b[38;5;28;01mif\u001b[39;00m match \u001b[38;5;129;01mis\u001b[39;00m \u001b[38;5;28;01mNone\u001b[39;00m \u001b[38;5;28;01melse\u001b[39;00m match.group(\u001b[32m2\u001b[39m)\n\u001b[32m--> \u001b[39m\u001b[32m153\u001b[39m \u001b[38;5;28;01mreturn\u001b[39;00m \u001b[43m_parse_json\u001b[49m\u001b[43m(\u001b[49m\u001b[43mjson_str\u001b[49m\u001b[43m,\u001b[49m\u001b[43m \u001b[49m\u001b[43mparser\u001b[49m\u001b[43m=\u001b[49m\u001b[43mparser\u001b[49m\u001b[43m)\u001b[49m\n",
      "\u001b[36mFile \u001b[39m\u001b[32m~/dev/repo-clones/ChatGPT-for-Conversational-AI-and-Chatbots/.venv/lib/python3.13/site-packages/langchain_core/utils/json.py:169\u001b[39m, in \u001b[36m_parse_json\u001b[39m\u001b[34m(json_str, parser)\u001b[39m\n\u001b[32m    168\u001b[39m \u001b[38;5;66;03m# Parse the JSON string into a Python dictionary\u001b[39;00m\n\u001b[32m--> \u001b[39m\u001b[32m169\u001b[39m \u001b[38;5;28;01mreturn\u001b[39;00m \u001b[43mparser\u001b[49m\u001b[43m(\u001b[49m\u001b[43mjson_str\u001b[49m\u001b[43m)\u001b[49m\n",
      "\u001b[36mFile \u001b[39m\u001b[32m~/dev/repo-clones/ChatGPT-for-Conversational-AI-and-Chatbots/.venv/lib/python3.13/site-packages/langchain_core/utils/json.py:126\u001b[39m, in \u001b[36mparse_partial_json\u001b[39m\u001b[34m(s, strict)\u001b[39m\n\u001b[32m    123\u001b[39m \u001b[38;5;66;03m# If we got here, we ran out of characters to remove\u001b[39;00m\n\u001b[32m    124\u001b[39m \u001b[38;5;66;03m# and still couldn't parse the string as JSON, so return the parse error\u001b[39;00m\n\u001b[32m    125\u001b[39m \u001b[38;5;66;03m# for the original string.\u001b[39;00m\n\u001b[32m--> \u001b[39m\u001b[32m126\u001b[39m \u001b[38;5;28;01mreturn\u001b[39;00m \u001b[43mjson\u001b[49m\u001b[43m.\u001b[49m\u001b[43mloads\u001b[49m\u001b[43m(\u001b[49m\u001b[43ms\u001b[49m\u001b[43m,\u001b[49m\u001b[43m \u001b[49m\u001b[43mstrict\u001b[49m\u001b[43m=\u001b[49m\u001b[43mstrict\u001b[49m\u001b[43m)\u001b[49m\n",
      "\u001b[36mFile \u001b[39m\u001b[32m/opt/homebrew/Cellar/python@3.13/3.13.2/Frameworks/Python.framework/Versions/3.13/lib/python3.13/json/__init__.py:359\u001b[39m, in \u001b[36mloads\u001b[39m\u001b[34m(s, cls, object_hook, parse_float, parse_int, parse_constant, object_pairs_hook, **kw)\u001b[39m\n\u001b[32m    358\u001b[39m     kw[\u001b[33m'\u001b[39m\u001b[33mparse_constant\u001b[39m\u001b[33m'\u001b[39m] = parse_constant\n\u001b[32m--> \u001b[39m\u001b[32m359\u001b[39m \u001b[38;5;28;01mreturn\u001b[39;00m \u001b[38;5;28;43mcls\u001b[39;49m\u001b[43m(\u001b[49m\u001b[43m*\u001b[49m\u001b[43m*\u001b[49m\u001b[43mkw\u001b[49m\u001b[43m)\u001b[49m\u001b[43m.\u001b[49m\u001b[43mdecode\u001b[49m\u001b[43m(\u001b[49m\u001b[43ms\u001b[49m\u001b[43m)\u001b[49m\n",
      "\u001b[36mFile \u001b[39m\u001b[32m/opt/homebrew/Cellar/python@3.13/3.13.2/Frameworks/Python.framework/Versions/3.13/lib/python3.13/json/decoder.py:345\u001b[39m, in \u001b[36mJSONDecoder.decode\u001b[39m\u001b[34m(self, s, _w)\u001b[39m\n\u001b[32m    341\u001b[39m \u001b[38;5;250m\u001b[39m\u001b[33;03m\"\"\"Return the Python representation of ``s`` (a ``str`` instance\u001b[39;00m\n\u001b[32m    342\u001b[39m \u001b[33;03mcontaining a JSON document).\u001b[39;00m\n\u001b[32m    343\u001b[39m \n\u001b[32m    344\u001b[39m \u001b[33;03m\"\"\"\u001b[39;00m\n\u001b[32m--> \u001b[39m\u001b[32m345\u001b[39m obj, end = \u001b[38;5;28;43mself\u001b[39;49m\u001b[43m.\u001b[49m\u001b[43mraw_decode\u001b[49m\u001b[43m(\u001b[49m\u001b[43ms\u001b[49m\u001b[43m,\u001b[49m\u001b[43m \u001b[49m\u001b[43midx\u001b[49m\u001b[43m=\u001b[49m\u001b[43m_w\u001b[49m\u001b[43m(\u001b[49m\u001b[43ms\u001b[49m\u001b[43m,\u001b[49m\u001b[43m \u001b[49m\u001b[32;43m0\u001b[39;49m\u001b[43m)\u001b[49m\u001b[43m.\u001b[49m\u001b[43mend\u001b[49m\u001b[43m(\u001b[49m\u001b[43m)\u001b[49m\u001b[43m)\u001b[49m\n\u001b[32m    346\u001b[39m end = _w(s, end).end()\n",
      "\u001b[36mFile \u001b[39m\u001b[32m/opt/homebrew/Cellar/python@3.13/3.13.2/Frameworks/Python.framework/Versions/3.13/lib/python3.13/json/decoder.py:361\u001b[39m, in \u001b[36mJSONDecoder.raw_decode\u001b[39m\u001b[34m(self, s, idx)\u001b[39m\n\u001b[32m    360\u001b[39m \u001b[38;5;28;01mtry\u001b[39;00m:\n\u001b[32m--> \u001b[39m\u001b[32m361\u001b[39m     obj, end = \u001b[38;5;28;43mself\u001b[39;49m\u001b[43m.\u001b[49m\u001b[43mscan_once\u001b[49m\u001b[43m(\u001b[49m\u001b[43ms\u001b[49m\u001b[43m,\u001b[49m\u001b[43m \u001b[49m\u001b[43midx\u001b[49m\u001b[43m)\u001b[49m\n\u001b[32m    362\u001b[39m \u001b[38;5;28;01mexcept\u001b[39;00m \u001b[38;5;167;01mStopIteration\u001b[39;00m \u001b[38;5;28;01mas\u001b[39;00m err:\n",
      "\u001b[31mJSONDecodeError\u001b[39m: Expecting ',' delimiter: line 287 column 4 (char 16799)",
      "\nThe above exception was the direct cause of the following exception:\n",
      "\u001b[31mOutputParserException\u001b[39m                     Traceback (most recent call last)",
      "\u001b[36mCell\u001b[39m\u001b[36m \u001b[39m\u001b[32mIn[4]\u001b[39m\u001b[32m, line 34\u001b[39m\n\u001b[32m     31\u001b[39m \u001b[38;5;28mprint\u001b[39m(\u001b[38;5;28mtype\u001b[39m(response.content))\n\u001b[32m     32\u001b[39m display(response)\n\u001b[32m---> \u001b[39m\u001b[32m34\u001b[39m output_dict = \u001b[43mintent_output_parser\u001b[49m\u001b[43m.\u001b[49m\u001b[43mparse\u001b[49m\u001b[43m(\u001b[49m\u001b[43mresponse\u001b[49m\u001b[43m.\u001b[49m\u001b[43mcontent\u001b[49m\u001b[43m)\u001b[49m\n\u001b[32m     35\u001b[39m \u001b[38;5;28mprint\u001b[39m(output_dict)\n\u001b[32m     36\u001b[39m output_dict.get(\u001b[33m'\u001b[39m\u001b[33mintents\u001b[39m\u001b[33m'\u001b[39m)\n",
      "\u001b[36mFile \u001b[39m\u001b[32m~/dev/repo-clones/ChatGPT-for-Conversational-AI-and-Chatbots/.venv/lib/python3.13/site-packages/langchain/output_parsers/structured.py:97\u001b[39m, in \u001b[36mStructuredOutputParser.parse\u001b[39m\u001b[34m(self, text)\u001b[39m\n\u001b[32m     95\u001b[39m \u001b[38;5;28;01mdef\u001b[39;00m\u001b[38;5;250m \u001b[39m\u001b[34mparse\u001b[39m(\u001b[38;5;28mself\u001b[39m, text: \u001b[38;5;28mstr\u001b[39m) -> Dict[\u001b[38;5;28mstr\u001b[39m, Any]:\n\u001b[32m     96\u001b[39m     expected_keys = [rs.name \u001b[38;5;28;01mfor\u001b[39;00m rs \u001b[38;5;129;01min\u001b[39;00m \u001b[38;5;28mself\u001b[39m.response_schemas]\n\u001b[32m---> \u001b[39m\u001b[32m97\u001b[39m     \u001b[38;5;28;01mreturn\u001b[39;00m \u001b[43mparse_and_check_json_markdown\u001b[49m\u001b[43m(\u001b[49m\u001b[43mtext\u001b[49m\u001b[43m,\u001b[49m\u001b[43m \u001b[49m\u001b[43mexpected_keys\u001b[49m\u001b[43m)\u001b[49m\n",
      "\u001b[36mFile \u001b[39m\u001b[32m~/dev/repo-clones/ChatGPT-for-Conversational-AI-and-Chatbots/.venv/lib/python3.13/site-packages/langchain_core/utils/json.py:192\u001b[39m, in \u001b[36mparse_and_check_json_markdown\u001b[39m\u001b[34m(text, expected_keys)\u001b[39m\n\u001b[32m    190\u001b[39m \u001b[38;5;28;01mexcept\u001b[39;00m json.JSONDecodeError \u001b[38;5;28;01mas\u001b[39;00m e:\n\u001b[32m    191\u001b[39m     msg = \u001b[33mf\u001b[39m\u001b[33m\"\u001b[39m\u001b[33mGot invalid JSON object. Error: \u001b[39m\u001b[38;5;132;01m{\u001b[39;00me\u001b[38;5;132;01m}\u001b[39;00m\u001b[33m\"\u001b[39m\n\u001b[32m--> \u001b[39m\u001b[32m192\u001b[39m     \u001b[38;5;28;01mraise\u001b[39;00m OutputParserException(msg) \u001b[38;5;28;01mfrom\u001b[39;00m\u001b[38;5;250m \u001b[39m\u001b[34;01me\u001b[39;00m\n\u001b[32m    193\u001b[39m \u001b[38;5;28;01mfor\u001b[39;00m key \u001b[38;5;129;01min\u001b[39;00m expected_keys:\n\u001b[32m    194\u001b[39m     \u001b[38;5;28;01mif\u001b[39;00m key \u001b[38;5;129;01mnot\u001b[39;00m \u001b[38;5;129;01min\u001b[39;00m json_obj:\n",
      "\u001b[31mOutputParserException\u001b[39m: Got invalid JSON object. Error: Expecting ',' delimiter: line 287 column 4 (char 16799)\nFor troubleshooting, visit: https://python.langchain.com/docs/troubleshooting/errors/OUTPUT_PARSING_FAILURE "
     ]
    }
   ],
   "source": [
    "from langchain.chat_models import ChatOpenAI\n",
    "from langchain.output_parsers import ResponseSchema\n",
    "from langchain.output_parsers import StructuredOutputParser\n",
    "from langchain.prompts import ChatPromptTemplate\n",
    "\n",
    "intent_schema = ResponseSchema(name=\"intents\",\n",
    "                             description=\"Format the output as a single JSON object consisting of a key: intents, the intents key will be a list of objects with the following keys: intent, utterance, category\")\n",
    "response_schemas = [intent_schema]\n",
    "\n",
    "intent_output_parser = StructuredOutputParser.from_response_schemas(response_schemas)\n",
    "\n",
    "intent_format_instructions = intent_output_parser.get_format_instructions()\n",
    "\n",
    "print(intent_format_instructions)\n",
    "\n",
    "intent_template = \"\"\"\n",
    "Create intents and utterances for a chatbot which will answer questions about a college, \\\n",
    "Create 4 examples of intents for the following categories: facilities and course_information \\\n",
    " ensure that each intent has 10 utterances, create 2 long tail and 2 more common utterances \\\n",
    "\n",
    "{intent_format_instructions}\n",
    "\n",
    "\"\"\"\n",
    "prompt_template = ChatPromptTemplate.from_template(intent_template)\n",
    "                                                           \n",
    "messages = prompt_template.format_messages(intent_format_instructions=intent_format_instructions)\n",
    "#messages = prompt_template.format_messages(intent_examples=intents)\n",
    "response = chat_model.invoke(messages)\n",
    "print(\"Got response\")\n",
    "# this will be type str\n",
    "print(type(response.content))\n",
    "display(response)\n",
    "                               \n",
    "output_dict = intent_output_parser.parse(response.content)\n",
    "print(output_dict)\n",
    "output_dict.get('intents')"
   ]
  },
  {
   "cell_type": "code",
   "execution_count": 1,
   "id": "6fb6fff3",
   "metadata": {},
   "outputs": [
    {
     "data": {
      "text/plain": [
       "ChatPromptValue(messages=[HumanMessage(content='\\n    Translate this text: what is the capital of england to French \\n')])"
      ]
     },
     "execution_count": 1,
     "metadata": {},
     "output_type": "execute_result"
    }
   ],
   "source": [
    "#Filename: Basic Langchain chain\n",
    "from langchain.chat_models import ChatOpenAI\n",
    "from langchain.prompts import ChatPromptTemplate\n",
    "from langchain.schema import StrOutputParser\n",
    "\n",
    "prompt = ChatPromptTemplate.from_template(\"\"\"\n",
    "    Translate this text: {text} to {language} \n",
    "\"\"\"\n",
    ")\n",
    "language = \"French\"\n",
    "text = \"what is the capital of england\"\n",
    "runnable  = prompt\n",
    "runnable.invoke({\"text\":text,\"language\":language})\n",
    "\n",
    "\n"
   ]
  },
  {
   "cell_type": "code",
   "execution_count": 6,
   "id": "ab1bc6a8",
   "metadata": {},
   "outputs": [],
   "source": [
    "#Filename: Sequential chain transcript processor \n",
    "import json\n",
    "from langchain.chat_models import ChatOpenAI\n",
    "from langchain.prompts import SystemMessagePromptTemplate, HumanMessagePromptTemplate, ChatPromptTemplate\n",
    "from langchain.output_parsers import ResponseSchema, StructuredOutputParser\n",
    "from langchain.schema.runnable import RunnableLambda\n",
    "\n",
    "# Initialize ChatGPT model\n",
    "chat_model = ChatOpenAI(temperature=0, model=\"gpt-4-1106-preview\")\n",
    "\n",
    "# Load transcripts data\n",
    "with open('transcripts.json', 'r') as file:\n",
    "    transcripts = json.load(file)\n",
    "\n",
    "# Define response schemas\n",
    "response_schemas = [\n",
    "    ResponseSchema(name=\"transactional_transcripts\", description=\"Format the output as JSON list of conversations with the same JSON format as the input,add an category key to each conversation\", type=\"list\"),\n",
    "    ResponseSchema(name=\"faq\", description=\"Format the output as JSON list of conversations with the same JSON format as the input, add an category key to each conversation \", type=\"list\"),\n",
    "]\n",
    "\n",
    "# Define chat transcript template with placeholders for transcripts and format instructions\n",
    "transcript_template = \"Look at the following chat transcripts {transcripts} and categorize them into FAQ and transactional conversations in the following format {format_instructions}\"\n",
    "\n",
    "\n",
    "# Define prompt templates\n",
    "transactional_categorization_prompt_template = HumanMessagePromptTemplate.from_template(transcript_template)\n",
    "\n",
    "# Create output parser\n",
    "output_parser = StructuredOutputParser.from_response_schemas(response_schemas)\n",
    "\n",
    "# Get format instructions\n",
    "format_instructions = output_parser.get_format_instructions()\n",
    "\n",
    "# Create prompts\n",
    "prompt = ChatPromptTemplate(\n",
    "    messages=[transactional_categorization_prompt_template],\n",
    "    input_variables=[\"transcripts\"],\n",
    "    partial_variables={\"format_instructions\": format_instructions},\n",
    ")\n",
    "\n",
    "# Define chain for transactional categorization\n",
    "chain_one = prompt | chat_model | output_parser\n",
    "\n",
    "#chain_one_result = chain_one.invoke({\"transcripts\": transcripts})\n",
    "\n",
    "# Define intent response schemas\n",
    "intent_response_schemas = [\n",
    "    ResponseSchema(name=\"transactional_intents\", description=\"Format the output as JSON list of conversation transcripts using the same format from the transactional_transcript list, add an intent key to each conversation\", type=\"list\"),\n",
    "]\n",
    "\n",
    "intent_transcript_template = \"Look at the following chat transcripts {transactional_transcripts} Cluster these conversations by intent {intent_format_instructions}\"\n",
    "\n",
    "\n",
    "# Create intent prompt\n",
    "intent_clustering_prompt_template = HumanMessagePromptTemplate.from_template(intent_transcript_template)\n",
    "\n",
    "# Create intent output parser\n",
    "intent_output_parser = StructuredOutputParser.from_response_schemas(intent_response_schemas)\n",
    "\n",
    "# Get intent format instructions\n",
    "intent_format_instructions = intent_output_parser.get_format_instructions()\n",
    "\n",
    "# Create prompt for intent clustering\n",
    "prompt_two = ChatPromptTemplate(\n",
    "    messages=[intent_clustering_prompt_template],\n",
    "    input_variables=[\"transactional_transcripts\"],\n",
    "    partial_variables={\"intent_format_instructions\": intent_format_instructions},\n",
    ")\n",
    "\n",
    "# Create chain for intent clustering\n",
    "chain2 = (\n",
    "    {\"transactional_transcripts\": chain_one}\n",
    "    | prompt_two\n",
    "    | chat_model\n",
    "    | intent_output_parser\n",
    ")\n",
    "\n",
    "# Pass transcripts through chain inputs\n",
    "chain_two_result = chain2.invoke({\"transcripts\": transcripts})"
   ]
  },
  {
   "cell_type": "code",
   "execution_count": 15,
   "id": "1a71587f",
   "metadata": {},
   "outputs": [
    {
     "name": "stdout",
     "output_type": "stream",
     "text": [
      "{'live_chat_transcript': [{'role': 'customer', 'message': 'Hello, I need to schedule a maintenance appointment for my ElectricZ Model 3. Can you help with that?'}, {'role': 'support_agent', 'message': \"Certainly! Can you please provide your car's VIN and let me know what type of maintenance you require?\"}, {'role': 'customer', 'message': 'My VIN is XYZ12345, and I need a routine checkup.'}, {'role': 'support_agent', 'message': \"Thank you! I've scheduled your maintenance appointment. You'll receive a confirmation email shortly. Is there anything else I can assist you with?\"}], 'category': 'transactional', 'intent': 'Schedule Maintenance'}\n"
     ]
    }
   ],
   "source": [
    "print(chain_two_result.get('transactional_intents')[0])"
   ]
  },
  {
   "cell_type": "code",
   "execution_count": 57,
   "id": "993912c1",
   "metadata": {},
   "outputs": [
    {
     "name": "stdout",
     "output_type": "stream",
     "text": [
      "content=\"Recent trends in artificial intelligence (AI) highlight its expanding role in various sectors and the associated ethical considerations. In healthcare, AI is improving patient outcomes through predictive analytics, diagnostic assistance, and treatment personalization, with capabilities matching those of human experts in some cases. Ethical AI developments are gaining attention, with a focus on creating transparent, unbiased systems that respect privacy, alongside calls for stricter regulations. AI's involvement in creative industries raises questions about its impact on creativity, while its role in automation sparks debates on job displacement and creation.\\n\\nAdvancements in natural language processing (NLP) are notable, with AI models like GPT-3 generating human-like text for applications such as customer service and coding. Autonomous vehicles continue to progress, facing technological and regulatory challenges. Robotic process automation (RPA) is streamlining business operations, and AI is contributing to climate change efforts by modeling scenarios and enhancing renewable energy systems. AI is also becoming a critical tool in cybersecurity and is being processed locally on devices for speed and privacy improvements.\\n\\nAcademic research on AI is diverse, focusing on machine learning algorithm enhancements, AI fairness and ethics, and explainable AI (XAI) to improve system transparency. AI in healthcare is a significant research area, as is NLP, which is advancing language understanding. AI's role in addressing climate change, the exploration of neuro-AI and cognitive computing, advancements in AI hardware for computational efficiency, and robotics and autonomous systems are also key research topics. AI in cybersecurity is being explored to automate threat detection and response.\\n\\nGeneral information from the web defines AI as a field that creates intelligent machines through techniques like machine learning, NLP, robotics, and computer vision. AI applications span healthcare, finance, transportation, retail, manufacturing, and entertainment. Ethical challenges include algorithmic bias and job displacement concerns, with a need for responsible AI development. The future of AI points towards more advanced machine learning, integration with IoT, and a broader societal impact.\\n\\nOverall, AI is becoming increasingly integrated into various industries, prompting ongoing research, ethical considerations, and discussions about its future role in society.\"\n"
     ]
    }
   ],
   "source": [
    "#filename: Parallel Chains in Langchain\n",
    "from langchain.chat_models import ChatOpenAI\n",
    "from langchain.prompts import ChatPromptTemplate\n",
    "from langchain.schema.runnable import RunnableParallel\n",
    "from langchain.schema import StrOutputParser\n",
    "\n",
    "model = ChatOpenAI(model=\"gpt-4-1106-preview\")\n",
    "\n",
    "# prompt for querying news articles about a topic\n",
    "news_prompt = ChatPromptTemplate.from_template(\"summarize recent news articles about {topic}\")\n",
    "\n",
    "# Chain for querying scientific papers about a topic\n",
    "academic_prompt = ChatPromptTemplate.from_template(\"summarize recent scientific papers about {topic}\")\n",
    "\n",
    "# Chain for querying general web information about a topic\n",
    "web_info_prompt = ChatPromptTemplate.from_template(\"provide a general overview of {topic} from web sources\")\n",
    "\n",
    "\n",
    "# Create a RunnableParallel instance with the three chains\n",
    "# parallel_chain = RunnableParallel(news=news_chain, academic=academic_chain, web_info=web_info_chain)\n",
    "\n",
    "parallel = RunnableParallel(\n",
    "    news = news_prompt | model,\n",
    "    academic = academic_prompt | model,\n",
    "    web_info = web_info_prompt | model\n",
    ")\n",
    "\n",
    "summarise_prompt = ChatPromptTemplate.from_template(\"\"\"\n",
    "summarize the following information from these different sources:\n",
    "\n",
    "News source: {news}\n",
    "Academic: {academic}\n",
    "Web: {web_info}\n",
    "\n",
    "Summary:\n",
    "\"\"\")\n",
    "\n",
    "\n",
    "\n",
    "# Invoke the parallel chain with a specific topic\n",
    "#results = parallel_chain.invoke({\"topic\": \"artificial intelligence\"})\n",
    "\n",
    "summarise_chain = parallel | summarise_prompt | model\n",
    "\n",
    "summarise_output = summarise_chain.invoke({\"topic\": \"artificial intelligence\"})\n",
    "\n",
    "print(summarise_output)\n"
   ]
  },
  {
   "cell_type": "code",
   "execution_count": 56,
   "id": "6dfd975c",
   "metadata": {
    "scrolled": true
   },
   "outputs": [
    {
     "name": "stdout",
     "output_type": "stream",
     "text": [
      "content='The joke is about bears never getting caught gambling because they always play with a \"bear\" minimum. The poem describes bears as wild and mighty guardians of nature that roam freely in deep forests.'\n"
     ]
    }
   ],
   "source": [
    "from langchain.chat_models import ChatOpenAI\n",
    "from langchain.prompts import ChatPromptTemplate  \n",
    "from langchain.schema.runnable import RunnableParallel, RunnableSequence\n",
    "\n",
    "model = ChatOpenAI()\n",
    "\n",
    "joke_prompt = ChatPromptTemplate.from_template(\"tell me a joke about {topic}\")\n",
    "poem_prompt = ChatPromptTemplate.from_template(\"write a 2-line poem about {topic}\")\n",
    "\n",
    "parallel = RunnableParallel(\n",
    "    joke = joke_prompt | model,\n",
    "    poem = poem_prompt | model\n",
    ")\n",
    "\n",
    "summary_prompt = ChatPromptTemplate.from_template(\"\"\"\n",
    "Summarize the joke and poem about\n",
    "\n",
    "Joke: {joke}\n",
    "Poem: {poem}\n",
    "\n",
    "Summary:\n",
    "\"\"\")\n",
    "\n",
    "\n",
    "sequence = parallel | summary_prompt | model\n",
    "\n",
    "output = sequence.invoke({\"topic\": \"bears\"})\n",
    "print(output)"
   ]
  },
  {
   "cell_type": "code",
   "execution_count": 13,
   "id": "df300abc",
   "metadata": {
    "scrolled": true
   },
   "outputs": [
    {
     "data": {
      "text/plain": [
       "\"A subscription car, also known as a car subscription service or car-as-a-service, is a relatively new concept in the automotive industry. It offers an alternative to traditional car ownership or leasing by providing individuals with a flexible and convenient way to access a vehicle.\\n\\nThe benefits of a subscription car can vary depending on the specific service provider, but here are some common advantages:\\n\\n1. Flexibility: Car subscriptions typically offer more flexibility compared to traditional ownership or leasing options. Subscribers can often choose the duration of their subscription, ranging from a few weeks to several months, and may have the option to switch to different vehicles within the service's fleet.\\n\\n2. Convenience: Car subscriptions often include various services in a single monthly payment, such as vehicle registration, insurance, maintenance, and roadside assistance. This eliminates the need for separate arrangements and simplifies the overall ownership experience.\\n\\n3. Cost Savings: While the monthly cost of a car subscription may initially seem higher than a traditional lease payment, it can be more cost-effective in certain situations. Car subscriptions typically include all major expenses, such as insurance and maintenance, which can save subscribers money in the long run.\\n\\n4. Access to Different Vehicles: Subscribers often have the opportunity to drive different vehicles within the service provider's fleet, allowing them to experience various models and types of cars without the commitment of ownership.\\n\\n5. No Long-Term Commitment: Unlike traditional leasing or financing, car subscriptions generally do not require a long-term commitment. This can be beneficial for individuals who have short-term needs for a vehicle or those who prefer not to be tied to a single car for an extended period.\\n\\n6. Reduced Hassle: Car subscriptions eliminate the hassle associated with selling or trading in a vehicle when you no longer need it. Once the subscription period ends, you can simply return the car to the service provider without any further obligations.\\n\\nIt's important to note that the availability and specific benefits of car subscriptions can vary depending on the service provider, location, and individual needs. If you are interested in a car subscription, it is recommended to research and compare different providers to find the one that best suits your requirements.\""
      ]
     },
     "execution_count": 13,
     "metadata": {},
     "output_type": "execute_result"
    }
   ],
   "source": [
    "#filename: Routing Chains\n",
    "\n",
    "from langchain.chat_models import ChatOpenAI\n",
    "from langchain.schema.output_parser import StrOutputParser\n",
    "from langchain.schema.runnable import RunnableBranch\n",
    "from langchain.prompts import PromptTemplate\n",
    "from typing import Literal\n",
    "from langchain.output_parsers.openai_functions import PydanticAttrOutputFunctionsParser\n",
    "from langchain.pydantic_v1 import BaseModel\n",
    "from langchain.utils.openai_functions import convert_pydantic_to_openai_function\n",
    "from operator import itemgetter\n",
    "from langchain.schema.runnable import RunnablePassthrough\n",
    "\n",
    "# Initialize the language model\n",
    "llm = ChatOpenAI(temperature=0, model=\"gpt-4-1106-preview\")\n",
    "\n",
    "# Maintenance Department Template\n",
    "maintenance_template = \"\"\"You are an assistant at a car service center. \\\n",
    "You help customers book their cars for service. You will collect details such as the customer's name, \\\n",
    "car registration number, and their preferred date and time for the car collection.\n",
    "\n",
    "Here is the service booking request:\n",
    "{input}\"\"\"\n",
    "maintenance_prompt = PromptTemplate.from_template(maintenance_template)\n",
    "\n",
    "# Car Information Department Template\n",
    "car_info_template = \"\"\"You are knowledgeable about various car models and their features. \\\n",
    "You can provide detailed information about car specifications, models, and performance. \\\n",
    "If a question is outside your expertise, you recommend contacting the car manufacturer.\n",
    "\n",
    "Here is the question:\n",
    "{input}\"\"\"\n",
    "car_info_prompt = PromptTemplate.from_template(car_info_template)\n",
    "\n",
    "# Accounts Department Template\n",
    "accounts_template = \"\"\"You are well-versed in account management for car subscriptions. \\\n",
    "You can answer questions about billing, payment methods, and subscription plans. \\\n",
    "In cases of specific account issues, you advise contacting the accounts department directly.\n",
    "\n",
    "Here is the question:\n",
    "{input}\"\"\"\n",
    "accounts_prompt = PromptTemplate.from_template(accounts_template)\n",
    "\n",
    "# General Prompt Template for Other Queries\n",
    "general_prompt = PromptTemplate.from_template(\n",
    "    \"You are a helpful assistant. Answer the FAQ question as accurately as you can.\\n\\n{input}\"\n",
    ")\n",
    "\n",
    "# Branching Logic Based on Department\n",
    "prompt_branch = RunnableBranch(\n",
    "    (lambda x: x[\"topic\"] == \"maintenance\", maintenance_prompt),\n",
    "    (lambda x: x[\"topic\"] == \"car_info\", car_info_prompt),\n",
    "    (lambda x: x[\"topic\"] == \"accounts\", accounts_prompt),\n",
    "    general_prompt,\n",
    ")\n",
    "\n",
    "\n",
    "# Topic Classifier for Department Selection\n",
    "class TopicClassifier(BaseModel):\n",
    "    \"Classify the topic of the user question\"\n",
    "    topic: Literal[\"maintenance\", \"car_info\", \"accounts\", \"general\"]\n",
    "    \"The topic of the user question. One of 'maintenance', 'car_info', 'accounts', or 'general'.\"\n",
    "\n",
    "classifier_function = convert_pydantic_to_openai_function(TopicClassifier)\n",
    "llm = ChatOpenAI().bind(\n",
    "    functions=[classifier_function], function_call={\"name\": \"TopicClassifier\"}\n",
    ")\n",
    "parser = PydanticAttrOutputFunctionsParser(\n",
    "    pydantic_schema=TopicClassifier, attr_name=\"topic\"\n",
    ")\n",
    "classifier_chain = llm | parser\n",
    "\n",
    "    \n",
    "# Final Chain Assembly\n",
    "final_chain = (\n",
    "    RunnablePassthrough.assign(topic=itemgetter(\"input\") | classifier_chain)\n",
    "    | prompt_branch\n",
    "    | ChatOpenAI()\n",
    "    | StrOutputParser()\n",
    ")\n",
    "\n",
    "# Example Invocation\n",
    "final_chain.invoke(\n",
    "    #{\"input\": \"How do I update my payment method for my car subscription?\"}\n",
    "    #{\"input\": \"which is car with the longest range battery?\"}\n",
    "    {\"input\": \"whats the benefit of a subscription car\"}\n",
    ")\n"
   ]
  },
  {
   "cell_type": "code",
   "execution_count": null,
   "id": "0d288854",
   "metadata": {},
   "outputs": [],
   "source": []
  }
 ],
 "metadata": {
  "kernelspec": {
   "display_name": ".venv",
   "language": "python",
   "name": "python3"
  },
  "language_info": {
   "codemirror_mode": {
    "name": "ipython",
    "version": 3
   },
   "file_extension": ".py",
   "mimetype": "text/x-python",
   "name": "python",
   "nbconvert_exporter": "python",
   "pygments_lexer": "ipython3",
   "version": "3.13.2"
  }
 },
 "nbformat": 4,
 "nbformat_minor": 5
}
