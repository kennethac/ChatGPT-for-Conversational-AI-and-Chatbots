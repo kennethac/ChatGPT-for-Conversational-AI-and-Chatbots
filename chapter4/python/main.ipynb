{
 "cells": [
  {
   "cell_type": "code",
   "execution_count": null,
   "metadata": {
    "scrolled": true
   },
   "outputs": [
    {
     "data": {
      "application/vnd.jupyter.widget-view+json": {
       "model_id": "85d1d06d1d444795bdc2d3f09e7b6923",
       "version_major": 2,
       "version_minor": 0
      },
      "text/plain": [
       "VBox(children=(Text(value='Hi', placeholder='Enter text here…'), Button(description='Chat!', style=ButtonStyle…"
      ]
     },
     "metadata": {},
     "output_type": "display_data"
    }
   ],
   "source": [
    "import os\n",
    "import json\n",
    "import openai\n",
    "import ipywidgets as widgets\n",
    "from IPython.display import display, clear_output, Markdown\n",
    "\n",
    "base_url = os.environ.get(\"OPENAI_BASE_URL\") or \"http://localhost:11434/v1\"\n",
    "api_key = os.environ.get(\"OPENAI_API_KEY\") or \"ollama\"\n",
    "model_name = os.environ.get(\"MODEL_NAME\") or \"llama3.2\" if api_key == \"ollama\" else \"gpt-3.5-turbo\"\n",
    "\n",
    "client = openai.OpenAI(\n",
    "    base_url = base_url,\n",
    "    api_key=api_key,\n",
    ")\n",
    "\n",
    "with open('../booking.json', 'r') as f:\n",
    "    booking = json.load(f)\n",
    "\n",
    "def chat_with_gpt(\n",
    "    messages,\n",
    "    model=model_name,\n",
    "    top_p=1,\n",
    "    frequency_penalty=0,\n",
    "    presence_penalty=0,\n",
    "    temperature=0\n",
    "):\n",
    "    try:\n",
    "        response = client.chat.completions.create(\n",
    "            model=model,\n",
    "            messages=messages,\n",
    "            top_p=top_p,\n",
    "            frequency_penalty=frequency_penalty,\n",
    "            presence_penalty=presence_penalty,\n",
    "            temperature=temperature\n",
    "        )\n",
    "        return response.choices[0].message.content\n",
    "        \n",
    "    except Exception as e:\n",
    "        return str(e)\n",
    "\n",
    "# Create chat input and button widgets\n",
    "inp = widgets.Text(value=\"Hi\", placeholder='Enter text here…')\n",
    "chat_button = widgets.Button(description=\"Chat!\")\n",
    "\n",
    "# Output widget to display the interactive conversation\n",
    "output = widgets.Output()\n",
    "system_content = f\"You are Shelley an automated travel assistant to answer questions about a customers holiday, \\\n",
    "start by greeting them by their first name and asking them how you can help with their holiday \\\n",
    "mention where they are going \\\n",
    "This customers holiday details are here: \\\n",
    "{booking}\"\n",
    "\n",
    "context = [{'role':'system', 'content':system_content}]\n",
    "\n",
    "panels = []\n",
    "\n",
    "def collect_messages():\n",
    "    # Get the user input from the text input widget\n",
    "    prompt = inp.value\n",
    "    \n",
    "    # Clear the text input widget\n",
    "    inp.value = ''\n",
    "    \n",
    "    # Update the context with the user's message\n",
    "    context.append({'role':'user', 'content': f\"{prompt}\"})\n",
    "    \n",
    "    # Get the assistant's response \n",
    "    response = chat_with_gpt(context)\n",
    "    \n",
    "    # Update the context with the assistant's response\n",
    "    context.append({'role':'assistant', 'content': f\"{response}\"})\n",
    "    \n",
    "    # Create Markdown widgets for the user's message and assistant's response\n",
    "    user_message = widgets.Output()\n",
    "    with user_message:\n",
    "        display(Markdown(f'**User:** {prompt}'))\n",
    "    \n",
    "    assistant_message = widgets.Output()\n",
    "    with assistant_message:\n",
    "        display(Markdown(f'**Assistant:** {response}'))\n",
    "    \n",
    "    # Append the new messages to the panels list\n",
    "    panels.extend([user_message, assistant_message])\n",
    "    \n",
    "    # Clear the previous output and display the updated conversation\n",
    "    with output:\n",
    "        clear_output()\n",
    "        for panel in panels:\n",
    "            display(panel)\n",
    "\n",
    "# Bind the button click event to the collect_messages function\n",
    "chat_button.on_click(collect_messages)\n",
    "\n",
    "# Create the dashboard layout\n",
    "dashboard = widgets.VBox([inp, chat_button, output])\n",
    "\n",
    "# Display the dashboard\n",
    "display(dashboard)"
   ]
  }
 ],
 "metadata": {
  "kernelspec": {
   "display_name": ".venv",
   "language": "python",
   "name": "python3"
  },
  "language_info": {
   "codemirror_mode": {
    "name": "ipython",
    "version": 3
   },
   "file_extension": ".py",
   "mimetype": "text/x-python",
   "name": "python",
   "nbconvert_exporter": "python",
   "pygments_lexer": "ipython3",
   "version": "3.13.2"
  }
 },
 "nbformat": 4,
 "nbformat_minor": 2
}
